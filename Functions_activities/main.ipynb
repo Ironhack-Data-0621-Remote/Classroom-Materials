{
 "cells": [
  {
   "cell_type": "markdown",
   "metadata": {},
   "source": [
    "# Functions"
   ]
  },
  {
   "cell_type": "markdown",
   "metadata": {},
   "source": [
    "On this lab we will put to practice some of the concepts we have learned on this past few days.\n",
    "\n",
    "`NOTE: On this lab you should try to write all the functions yourself using only the most basic of python syntax and without functions such as len, count, sum, max, min, in, etc. Give it a try. 🧑🏻‍💻👩🏻‍💻`\n",
    "\n",
    "The cell after each exercise contains a few tests to check if your function works as expected."
   ]
  },
  {
   "cell_type": "code",
   "execution_count": 23,
   "metadata": {},
   "outputs": [],
   "source": [
    "from mod.testing import *\n",
    "import unittest"
   ]
  },
  {
   "cell_type": "markdown",
   "metadata": {},
   "source": [
    "## 1. Write a function that returns the greater of two numbers"
   ]
  },
  {
   "cell_type": "code",
   "execution_count": 24,
   "metadata": {},
   "outputs": [],
   "source": [
    "def test_greater(char1, char2):\n",
    "    if char1 > char2:\n",
    "        return char1\n",
    "    return char2\n",
    "    "
   ]
  },
  {
   "cell_type": "code",
   "execution_count": 25,
   "metadata": {},
   "outputs": [
    {
     "data": {
      "text/plain": [
       "6"
      ]
     },
     "execution_count": 25,
     "metadata": {},
     "output_type": "execute_result"
    }
   ],
   "source": [
    "# This will test your function \n",
    "test_greater(6,3)"
   ]
  },
  {
   "cell_type": "markdown",
   "metadata": {},
   "source": [
    "## 2. Now write a function that returns the largest element on a list"
   ]
  },
  {
   "cell_type": "code",
   "execution_count": 26,
   "metadata": {},
   "outputs": [],
   "source": [
    "def test_greatest(lst):\n",
    "    x = lst[0]\n",
    "    for i in lst:\n",
    "        if i > x:\n",
    "            x = i\n",
    "    return x"
   ]
  },
  {
   "cell_type": "code",
   "execution_count": 27,
   "metadata": {},
   "outputs": [
    {
     "data": {
      "text/plain": [
       "66.8"
      ]
     },
     "execution_count": 27,
     "metadata": {},
     "output_type": "execute_result"
    }
   ],
   "source": [
    "# This will test your function \n",
    "test_list1 = [3, 6, 2, 10, 16, 33, 2, 4.5, 66.8, 4]\n",
    "\n",
    "test_greatest(test_list1)"
   ]
  },
  {
   "cell_type": "markdown",
   "metadata": {},
   "source": [
    "## 3. Write a function that sums all the elements on a list"
   ]
  },
  {
   "cell_type": "code",
   "execution_count": 28,
   "metadata": {},
   "outputs": [],
   "source": [
    "def test_sum(lst):\n",
    "    x=0\n",
    "    for i in lst:\n",
    "        x += i\n",
    "    return x\n"
   ]
  },
  {
   "cell_type": "code",
   "execution_count": 29,
   "metadata": {},
   "outputs": [
    {
     "data": {
      "text/plain": [
       "147.3"
      ]
     },
     "execution_count": 29,
     "metadata": {},
     "output_type": "execute_result"
    }
   ],
   "source": [
    "# This will test your function \n",
    "test_sum(test_list1)"
   ]
  },
  {
   "cell_type": "markdown",
   "metadata": {},
   "source": [
    "## 4. Write another function that multiplies all the elements on a list"
   ]
  },
  {
   "cell_type": "code",
   "execution_count": 30,
   "metadata": {},
   "outputs": [],
   "source": [
    "def test_mult(list):\n",
    "    x=1\n",
    "    for i in list:\n",
    "        x *= i\n",
    "    return x"
   ]
  },
  {
   "cell_type": "code",
   "execution_count": 31,
   "metadata": {},
   "outputs": [
    {
     "data": {
      "text/plain": [
       "457104384.0"
      ]
     },
     "execution_count": 31,
     "metadata": {},
     "output_type": "execute_result"
    }
   ],
   "source": [
    "# This will test your function \n",
    "test_mult(test_list1)"
   ]
  },
  {
   "cell_type": "markdown",
   "metadata": {},
   "source": [
    "## 5. Now combine those two ideas and write a function that receives a list and either \"+\" or \"*\" and outputs acordingly"
   ]
  },
  {
   "cell_type": "code",
   "execution_count": 32,
   "metadata": {},
   "outputs": [],
   "source": [
    "def test_operations(lst, op= '+'):\n",
    "    if op == '+':\n",
    "        return test_sum(lst)\n",
    "    elif op == '*':\n",
    "        return test_mult(lst)\n",
    "    else:\n",
    "        return 'Error'"
   ]
  },
  {
   "cell_type": "code",
   "execution_count": 33,
   "metadata": {},
   "outputs": [
    {
     "data": {
      "text/plain": [
       "457104384.0"
      ]
     },
     "execution_count": 33,
     "metadata": {},
     "output_type": "execute_result"
    }
   ],
   "source": [
    "# This will test your function \n",
    "test_operations(test_list1, op='*')"
   ]
  },
  {
   "cell_type": "markdown",
   "metadata": {},
   "source": [
    "## 6. Write a function that returns the factorial of a number."
   ]
  },
  {
   "cell_type": "code",
   "execution_count": 34,
   "metadata": {},
   "outputs": [],
   "source": [
    "def test_factorial(num):\n",
    "    x = 1\n",
    "    while num > 1:\n",
    "        x *= num\n",
    "        num -= 1\n",
    "    return x"
   ]
  },
  {
   "cell_type": "code",
   "execution_count": 35,
   "metadata": {},
   "outputs": [
    {
     "data": {
      "text/plain": [
       "6"
      ]
     },
     "execution_count": 35,
     "metadata": {},
     "output_type": "execute_result"
    }
   ],
   "source": [
    "# This will test your function \n",
    "test_factorial(3)"
   ]
  },
  {
   "cell_type": "markdown",
   "metadata": {},
   "source": [
    "## 7. Write a function that takes a list and returns a list of the unique values.\n",
    "\n",
    "`NOTE: You cannot use set. 🤔`"
   ]
  },
  {
   "cell_type": "code",
   "execution_count": 36,
   "metadata": {},
   "outputs": [],
   "source": [
    "def test_unique(lst):\n",
    "    unique_lst = []\n",
    "    for item in lst:\n",
    "        if item not in unique_lst:\n",
    "            unique_lst.append(item)\n",
    "    return unique_lst\n",
    "    "
   ]
  },
  {
   "cell_type": "code",
   "execution_count": 37,
   "metadata": {},
   "outputs": [
    {
     "data": {
      "text/plain": [
       "['a', 'd', 't', 'r', 'xx', '33']"
      ]
     },
     "execution_count": 37,
     "metadata": {},
     "output_type": "execute_result"
    }
   ],
   "source": [
    "# This will test your function \n",
    "test_unique(['a', 'd', 't', 'r', 'd', 'xx', 'd', 'r', '33'])"
   ]
  },
  {
   "cell_type": "markdown",
   "metadata": {},
   "source": [
    "## 8. Write a function that returns the mode of a list, i.e.: the element that appears the most times.\n",
    "`NOTE: You should not use count... 🧐`"
   ]
  },
  {
   "cell_type": "code",
   "execution_count": 38,
   "metadata": {},
   "outputs": [],
   "source": [
    "def test_mode(lst):\n",
    "    uniques = test_unique(lst)\n",
    "    y = 0\n",
    "    mode_pick = 0\n",
    "    \n",
    "    for item in uniques:\n",
    "        x = 0\n",
    "        for i in lst:\n",
    "            if i == item:\n",
    "                x += 1\n",
    "            else:\n",
    "                pass\n",
    "        if x > y:\n",
    "            y = x\n",
    "            mode_pick = item\n",
    "        else:\n",
    "            pass\n",
    "    return mode_pick\n"
   ]
  },
  {
   "cell_type": "code",
   "execution_count": 39,
   "metadata": {},
   "outputs": [
    {
     "data": {
      "text/plain": [
       "9"
      ]
     },
     "execution_count": 39,
     "metadata": {},
     "output_type": "execute_result"
    }
   ],
   "source": [
    "# This will test your function \n",
    "test_list2 = [5, 6, 6, 7, 8, 9, 9, 10, 11, 11, 9, 12, 4, 12, 5, 10, 15, 15, 15, 1]\n",
    "test_mode(test_list2)"
   ]
  },
  {
   "cell_type": "markdown",
   "metadata": {},
   "source": [
    "## 9. Write a function that calculates the standard deviation of a list.\n",
    "`NOTE: Do not use any libraries or already built functions. 😉`"
   ]
  },
  {
   "cell_type": "code",
   "execution_count": 40,
   "metadata": {},
   "outputs": [],
   "source": [
    "def test_stdev(lst):\n",
    "    n = 0 \n",
    "    for item in lst:\n",
    "        n += 1 \n",
    "    lst_mean = test_sum(lst)/n\n",
    "    dev_lst = []\n",
    "    for item in lst:\n",
    "        dev_lst.append((item - lst_mean)**2)\n",
    "    return (test_sum(dev_lst)/n)**(1/2)\n"
   ]
  },
  {
   "cell_type": "code",
   "execution_count": 41,
   "metadata": {},
   "outputs": [
    {
     "data": {
      "text/plain": [
       "2.0"
      ]
     },
     "execution_count": 41,
     "metadata": {},
     "output_type": "execute_result"
    }
   ],
   "source": [
    "# This will test your function \n",
    "test_lst4 = [2, 4, 4, 4, 5, 5, 7, 9]\n",
    "test_stdev(test_lst4)"
   ]
  },
  {
   "cell_type": "markdown",
   "metadata": {},
   "source": [
    "## 10. Write a function to check if a string is a pangram, i.e.: if it contains all the letters of the alphabet at least once. Mind that the strings may contain characters that are not letters."
   ]
  },
  {
   "cell_type": "code",
   "execution_count": 42,
   "metadata": {},
   "outputs": [],
   "source": [
    "def test_pangram(inp_str):\n",
    "    x = 0\n",
    "    alphabet_lst = [['a','A'], ['b','B'], ['c','C'], ['d','D'], ['e','E'], ['f','F'], ['g','G'], ['h','H'],\n",
    "                    ['i','I'], ['j','J'], ['k','K'], ['l','L'], ['m','M'], ['n','N'], ['o','O'], ['p','P'],\n",
    "                    ['q','Q'], ['r','R'], ['s','S'], ['t','T'], ['u','U'], ['v','V'], ['w','W'], ['x','X'],\n",
    "                    ['y','Y'], ['z','Z']]\n",
    "    \n",
    "    for letter in alphabet_lst:\n",
    "        if (letter[0] in inp_str) | (letter[1] in inp_str):\n",
    "            x += 1\n",
    "    if x == 26:\n",
    "        return 'Pangram'\n",
    "    return 'No Pangram'\n"
   ]
  },
  {
   "cell_type": "code",
   "execution_count": 43,
   "metadata": {},
   "outputs": [
    {
     "data": {
      "text/plain": [
       "'Pangram'"
      ]
     },
     "execution_count": 43,
     "metadata": {},
     "output_type": "execute_result"
    }
   ],
   "source": [
    "# This will test your function \n",
    "test_str1 = 'qweR25tzU-0ioPlkjhgFdsayx19cvbNm'\n",
    "\n",
    "test_pangram(test_str1)"
   ]
  },
  {
   "cell_type": "markdown",
   "metadata": {},
   "source": [
    "## 11. Write a function that receives a string of comma separated words and returns a string of comma separated words sorted alphabetically.\n",
    "\n",
    "`NOTE: You may use sorted but not split and definitely no join! 🤪`"
   ]
  },
  {
   "cell_type": "code",
   "execution_count": 44,
   "metadata": {},
   "outputs": [],
   "source": [
    "def str_len(inp_str):\n",
    "    str_length = 0\n",
    "    for n in inp_str:\n",
    "        str_length += 1\n",
    "    return str_length\n",
    "\n",
    "def test_alpha(inp_str):\n",
    "    len_1 = str_len(inp_str)\n",
    "        \n",
    "    i = 0\n",
    "    prev_comma = 0\n",
    "    str_list = []\n",
    "    \n",
    "    while i < len_1:\n",
    "        if inp_str[i] == ',':\n",
    "            str_list.append(inp_str[prev_comma:i])\n",
    "            prev_comma = i+1\n",
    "        i += 1\n",
    "    str_list.append(inp_str[prev_comma:len_1])\n",
    "    str_list.sort()\n",
    "    \n",
    "    j = 0\n",
    "    len_2 = str_len(str_list)\n",
    "    str_sorted = ''\n",
    "       \n",
    "    while j < (len_2 - 1):\n",
    "        str_sorted = str_sorted + str_list[j] + ','\n",
    "        j += 1\n",
    "    str_sorted = str_sorted + str_list[j]\n",
    "    \n",
    "    return str_sorted\n",
    "   "
   ]
  },
  {
   "cell_type": "code",
   "execution_count": 45,
   "metadata": {},
   "outputs": [
    {
     "data": {
      "text/plain": [
       "'ab,abc,h,ura,ure,zae,zur'"
      ]
     },
     "execution_count": 45,
     "metadata": {},
     "output_type": "execute_result"
    }
   ],
   "source": [
    "# This will test your function \n",
    "test_str2 = 'abc,zur,ure,ura,zae,h,ab'\n",
    "\n",
    "test_alpha(test_str2)"
   ]
  },
  {
   "cell_type": "markdown",
   "metadata": {},
   "source": [
    "## 12. Write a function to check if a given password is strong (at least 8 characters, at least one lower case, at least one upper case, at least one number and at least one special character). It should output True if strong and False if not.\n",
    "`Valid special characters: # @ ! $ % & ( ) ^ * [ ] { }`"
   ]
  },
  {
   "cell_type": "code",
   "execution_count": 46,
   "metadata": {},
   "outputs": [],
   "source": [
    "def test_pass(inp_str):\n",
    "    cond_2 = ['a', 'b', 'c', 'd', 'e', 'f', 'g', 'h', 'i', 'j', 'k', 'l', 'm', 'n', \n",
    "              'o', 'p', 'q', 'r', 's', 't', 'u', 'v', 'w', 'x', 'y', 'z']\n",
    "    cond_3 = ['A', 'B', 'C', 'D', 'E', 'F', 'G', 'H', 'I', 'J', 'K', 'L', 'M', 'N', \n",
    "              'O', 'P', 'Q', 'R', 'S', 'T', 'U', 'V', 'W', 'X', 'Y', 'Z']\n",
    "    cond_4 = ['#', '@', '!', '$', '%', '&', '(', ')', '^', '*', '[', ']', '{', '}']\n",
    "    cond_5 = ['0', '1', '2', '3', '4', '5', '6', '7', '8', '9']\n",
    "    valid_char = cond_2 + cond_3 + cond_4 + cond_5\n",
    "    result_invalid = False\n",
    "    result_1 = False\n",
    "    result_2 = False\n",
    "    result_3 = False\n",
    "    result_4 = False\n",
    "    result_5 = False\n",
    "    \n",
    "    if (str_len(inp_str) >= 8):\n",
    "            result_1 = True\n",
    "            \n",
    "    for c in inp_str:\n",
    "        if c not in valid_char:\n",
    "            result_invalid = True\n",
    "        elif c in cond_2:\n",
    "            result_2 = True\n",
    "        elif c in cond_3:\n",
    "            result_3 = True\n",
    "        elif c in cond_4:\n",
    "            result_4 = True\n",
    "        elif c in cond_5:\n",
    "            result_5 = True\n",
    "            \n",
    "    if (result_invalid == False) & (result_1 == True) & (result_2 == True) & (result_3 == True) & (result_4 == True) & (result_5 == True):\n",
    "        return True\n",
    "    return False\n",
    "  "
   ]
  },
  {
   "cell_type": "code",
   "execution_count": 47,
   "metadata": {},
   "outputs": [
    {
     "data": {
      "text/plain": [
       "True"
      ]
     },
     "execution_count": 47,
     "metadata": {},
     "output_type": "execute_result"
    }
   ],
   "source": [
    "# This will test your function \n",
    "test_pass('fu399t)bxO')"
   ]
  },
  {
   "cell_type": "code",
   "execution_count": null,
   "metadata": {},
   "outputs": [],
   "source": []
  }
 ],
 "metadata": {
  "kernelspec": {
   "display_name": "Python3Brew",
   "language": "python",
   "name": "python3brew"
  },
  "language_info": {
   "codemirror_mode": {
    "name": "ipython",
    "version": 3
   },
   "file_extension": ".py",
   "mimetype": "text/x-python",
   "name": "python",
   "nbconvert_exporter": "python",
   "pygments_lexer": "ipython3",
   "version": "3.9.4"
  },
  "toc": {
   "base_numbering": 1,
   "nav_menu": {},
   "number_sections": true,
   "sideBar": true,
   "skip_h1_title": false,
   "title_cell": "Table of Contents",
   "title_sidebar": "Contents",
   "toc_cell": false,
   "toc_position": {},
   "toc_section_display": true,
   "toc_window_display": false
  }
 },
 "nbformat": 4,
 "nbformat_minor": 4
}
