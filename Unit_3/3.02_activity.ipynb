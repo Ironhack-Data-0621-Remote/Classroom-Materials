{
 "cells": [
  {
   "cell_type": "markdown",
   "id": "9d9f273a-adc2-4022-b99e-cdc90683362f",
   "metadata": {},
   "source": [
    "1. Write a function that returns the greater of two numbers"
   ]
  },
  {
   "cell_type": "code",
   "execution_count": 1,
   "id": "39e55144-a75f-4900-9f8b-701303b792b8",
   "metadata": {},
   "outputs": [],
   "source": [
    "def test_greater(a,b):\n",
    "    if a>b:\n",
    "        return 'a is greater'\n",
    "    elif a == b:\n",
    "        return 'a is equal to b'\n",
    "    else:\n",
    "        return 'b is greater'\n"
   ]
  },
  {
   "cell_type": "code",
   "execution_count": 4,
   "id": "6d5668d2-61ba-45dd-a189-c7dce6ed5339",
   "metadata": {},
   "outputs": [
    {
     "data": {
      "text/plain": [
       "'b is greater'"
      ]
     },
     "execution_count": 4,
     "metadata": {},
     "output_type": "execute_result"
    }
   ],
   "source": [
    "test_greater('a','b')"
   ]
  },
  {
   "cell_type": "code",
   "execution_count": 8,
   "id": "eb34a600-6d5d-4d5b-9469-443ec828d663",
   "metadata": {},
   "outputs": [],
   "source": [
    "def test_greater(a,b):\n",
    "    if a>b:\n",
    "        return a\n",
    "    return b"
   ]
  },
  {
   "cell_type": "code",
   "execution_count": 9,
   "id": "b2bc5e84-3950-4c0f-937f-aa478e7a2d70",
   "metadata": {},
   "outputs": [
    {
     "data": {
      "text/plain": [
       "4"
      ]
     },
     "execution_count": 9,
     "metadata": {},
     "output_type": "execute_result"
    }
   ],
   "source": [
    "test_greater(4,4)"
   ]
  },
  {
   "cell_type": "markdown",
   "id": "baa749f4-3496-4f99-962f-d36bf6377ab6",
   "metadata": {},
   "source": [
    "2. Now write a function that returns the largest element on a list"
   ]
  },
  {
   "cell_type": "code",
   "execution_count": 15,
   "id": "a0d76373-5668-41ee-8079-03a8fdd70c7a",
   "metadata": {},
   "outputs": [],
   "source": [
    "def test_greatest(list):\n",
    "    return max(list)"
   ]
  },
  {
   "cell_type": "code",
   "execution_count": 11,
   "id": "dbc54913-b501-4c79-a127-36258f5cce98",
   "metadata": {},
   "outputs": [
    {
     "data": {
      "text/plain": [
       "5"
      ]
     },
     "execution_count": 11,
     "metadata": {},
     "output_type": "execute_result"
    }
   ],
   "source": [
    "test_greatest([1,3,5])"
   ]
  },
  {
   "cell_type": "code",
   "execution_count": 22,
   "id": "37967dba-91d2-4d41-ac4c-f9314173baf7",
   "metadata": {},
   "outputs": [],
   "source": [
    "def test_greatest(list_1):\n",
    "    x = list_1[0]\n",
    "    for i in list_1:\n",
    "        if i > x:\n",
    "            x = i\n",
    "    return x"
   ]
  },
  {
   "cell_type": "code",
   "execution_count": 23,
   "id": "836e2163-722a-4212-9b71-c92bb76998a6",
   "metadata": {},
   "outputs": [
    {
     "data": {
      "text/plain": [
       "-1"
      ]
     },
     "execution_count": 23,
     "metadata": {},
     "output_type": "execute_result"
    }
   ],
   "source": [
    "test_greatest([-5,-2,-1])"
   ]
  },
  {
   "cell_type": "markdown",
   "id": "11747974-91ae-4a49-86ff-cb8279397e6c",
   "metadata": {},
   "source": [
    "3. Write a function that sums all the elements on a list"
   ]
  },
  {
   "cell_type": "code",
   "execution_count": 26,
   "id": "8acc09a3-5abc-4501-9297-615401d9f4c8",
   "metadata": {},
   "outputs": [],
   "source": [
    "def test_sum(lst):\n",
    "    x = 0\n",
    "    for i in lst:\n",
    "        x += i\n",
    "    return x"
   ]
  },
  {
   "cell_type": "code",
   "execution_count": 27,
   "id": "d2648b54-3213-4d7c-80a1-c82d98411c80",
   "metadata": {},
   "outputs": [
    {
     "data": {
      "text/plain": [
       "-8"
      ]
     },
     "execution_count": 27,
     "metadata": {},
     "output_type": "execute_result"
    }
   ],
   "source": [
    "test_sum([-5,-2,-1])"
   ]
  },
  {
   "cell_type": "markdown",
   "id": "8b385caa-a514-4832-874f-538e73b0aea0",
   "metadata": {},
   "source": [
    "4. Write another function that multiplies all the elements on a list"
   ]
  },
  {
   "cell_type": "code",
   "execution_count": 36,
   "id": "985ac20b-ebdd-4207-968c-2e9f103badb7",
   "metadata": {},
   "outputs": [],
   "source": [
    "def test_mult(lst):\n",
    "    x = 1\n",
    "    for i in lst:\n",
    "        x *= i\n",
    "    return x"
   ]
  },
  {
   "cell_type": "code",
   "execution_count": 37,
   "id": "58cb650a-a938-4f0d-afe4-518a65c44fca",
   "metadata": {},
   "outputs": [
    {
     "data": {
      "text/plain": [
       "6"
      ]
     },
     "execution_count": 37,
     "metadata": {},
     "output_type": "execute_result"
    }
   ],
   "source": [
    "test_mult([1,2,3])"
   ]
  },
  {
   "cell_type": "markdown",
   "id": "c38463a3-a042-4b85-9762-df8386fd6bbd",
   "metadata": {},
   "source": [
    "6. Now combine those two ideas and write a function that receives a list and either \"+\" or \"*\" and outputs acordingly"
   ]
  },
  {
   "cell_type": "code",
   "execution_count": 38,
   "id": "71b52f53-1e90-44c7-8dfc-c26fb4041a42",
   "metadata": {},
   "outputs": [],
   "source": [
    "def test_operations(lst, opt):\n",
    "    if opt == '+':\n",
    "        return test_sum(lst)\n",
    "    else:\n",
    "        return test_mult(lst)"
   ]
  },
  {
   "cell_type": "code",
   "execution_count": 42,
   "id": "60d51d80-9eaa-4364-9ec0-787034bd8f0e",
   "metadata": {},
   "outputs": [
    {
     "data": {
      "text/plain": [
       "8"
      ]
     },
     "execution_count": 42,
     "metadata": {},
     "output_type": "execute_result"
    }
   ],
   "source": [
    "test_operations([1,2,4],'a')"
   ]
  },
  {
   "cell_type": "code",
   "execution_count": null,
   "id": "bbbf01e1-49e2-4d88-a7ca-cdf72a06d147",
   "metadata": {},
   "outputs": [],
   "source": []
  }
 ],
 "metadata": {
  "kernelspec": {
   "display_name": "Python 3",
   "language": "python",
   "name": "python3"
  },
  "language_info": {
   "codemirror_mode": {
    "name": "ipython",
    "version": 3
   },
   "file_extension": ".py",
   "mimetype": "text/x-python",
   "name": "python",
   "nbconvert_exporter": "python",
   "pygments_lexer": "ipython3",
   "version": "3.8.2"
  }
 },
 "nbformat": 4,
 "nbformat_minor": 5
}
