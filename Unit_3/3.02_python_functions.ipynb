{
 "cells": [
  {
   "cell_type": "markdown",
   "id": "efa6feae-af78-470f-8e33-65e7afb7ddb3",
   "metadata": {},
   "source": [
    "Here’s what you’ll learn in this tutorial:\n",
    "\n",
    "- How functions work in Python and why they’re beneficial\n",
    "- How to define and call your own Python function\n",
    "- Mechanisms for passing arguments to your function\n",
    "- How to return data from your function back to the calling environment"
   ]
  },
  {
   "cell_type": "markdown",
   "id": "e6d24eb9-fbc9-4045-ba91-7f48f8d330df",
   "metadata": {},
   "source": [
    "## Functions in Python"
   ]
  },
  {
   "cell_type": "markdown",
   "id": "d5131710-c5fb-48ea-84ee-a0bab3f0dbd3",
   "metadata": {},
   "source": [
    "You may be familiar with the mathematical concept of a function. A function is a relationship or mapping between one or more inputs and a set of outputs. In mathematics, a function is typically represented like this:\n",
    "### z = f(x,y)\n",
    "Here, f is a function that operates on the inputs x and y. The output of the function is z. However, programming functions are much more generalized and versatile than this mathematical definition. \n"
   ]
  },
  {
   "cell_type": "markdown",
   "id": "7f43caab-0219-4256-82e0-8d840f97e821",
   "metadata": {},
   "source": [
    "---"
   ]
  },
  {
   "cell_type": "markdown",
   "id": "f3313e7b-b1b5-432b-9a3e-6f5b3afab83d",
   "metadata": {},
   "source": [
    "#### len() returns the length of the argument passed to it:"
   ]
  },
  {
   "cell_type": "code",
   "execution_count": 1,
   "id": "c85901dc-8cd0-4034-a1e7-06ee17520ee1",
   "metadata": {},
   "outputs": [
    {
     "data": {
      "text/plain": [
       "4"
      ]
     },
     "execution_count": 1,
     "metadata": {},
     "output_type": "execute_result"
    }
   ],
   "source": [
    "a = ['foo', 'bar', 'baz', 'qux']\n",
    "len(a)"
   ]
  },
  {
   "cell_type": "code",
   "execution_count": 12,
   "id": "4506f40b-6be7-484f-b62d-cc415014ca91",
   "metadata": {},
   "outputs": [
    {
     "data": {
      "text/plain": [
       "5"
      ]
     },
     "execution_count": 12,
     "metadata": {},
     "output_type": "execute_result"
    }
   ],
   "source": [
    "a = 'maddy'\n",
    "len(a)"
   ]
  },
  {
   "cell_type": "code",
   "execution_count": 11,
   "id": "3d05986e-eced-4f34-a1f8-c414f2342a48",
   "metadata": {},
   "outputs": [
    {
     "data": {
      "text/plain": [
       "1"
      ]
     },
     "execution_count": 11,
     "metadata": {},
     "output_type": "execute_result"
    }
   ],
   "source": [
    "a = ['maddy']\n",
    "len(a)"
   ]
  },
  {
   "cell_type": "code",
   "execution_count": 6,
   "id": "32f95e17-3f6b-4200-961a-440cbcf35d6c",
   "metadata": {},
   "outputs": [
    {
     "data": {
      "text/plain": [
       "5"
      ]
     },
     "execution_count": 6,
     "metadata": {},
     "output_type": "execute_result"
    }
   ],
   "source": [
    "a = 545.1\n",
    "len(str(a))"
   ]
  },
  {
   "cell_type": "code",
   "execution_count": 36,
   "id": "afa288a0-b309-4bdb-bed2-04d95d4b1761",
   "metadata": {},
   "outputs": [],
   "source": [
    "def len_check_1(rita):\n",
    "    print('def')\n",
    "    return len(rita)"
   ]
  },
  {
   "cell_type": "code",
   "execution_count": 37,
   "id": "250f3cc7-9be7-49d6-aa65-959ddb494872",
   "metadata": {},
   "outputs": [],
   "source": [
    "def len_check(yuri):\n",
    "    print('abc')\n",
    "    return len_check_1(yuri)"
   ]
  },
  {
   "cell_type": "code",
   "execution_count": 38,
   "id": "659c6845-251f-42a1-bf99-754345711215",
   "metadata": {},
   "outputs": [
    {
     "name": "stdout",
     "output_type": "stream",
     "text": [
      "abc\n",
      "def\n"
     ]
    },
    {
     "data": {
      "text/plain": [
       "4"
      ]
     },
     "execution_count": 38,
     "metadata": {},
     "output_type": "execute_result"
    }
   ],
   "source": [
    "len_check('john')"
   ]
  },
  {
   "cell_type": "code",
   "execution_count": 39,
   "id": "c5bec3af-65c5-41fe-9f96-9ac6b9d43b34",
   "metadata": {},
   "outputs": [],
   "source": [
    "def func(input_arg):\n",
    "    return input_arg*2"
   ]
  },
  {
   "cell_type": "code",
   "execution_count": 41,
   "id": "ffda9d1a-ef61-43b0-85e6-0936227482b2",
   "metadata": {},
   "outputs": [
    {
     "data": {
      "text/plain": [
       "20"
      ]
     },
     "execution_count": 41,
     "metadata": {},
     "output_type": "execute_result"
    }
   ],
   "source": [
    "a = 10\n",
    "a = func(a)\n",
    "a"
   ]
  },
  {
   "cell_type": "markdown",
   "id": "00515c87-e090-49a1-ae65-d9c305ab13c9",
   "metadata": {},
   "source": [
    "any() takes an iterable as its argument and returns True if any of the items in the iterable are truthy and False otherwise:"
   ]
  },
  {
   "cell_type": "code",
   "execution_count": 7,
   "id": "704de2c5-9e59-4c97-a77b-f8dce3280fa3",
   "metadata": {},
   "outputs": [
    {
     "data": {
      "text/plain": [
       "False"
      ]
     },
     "execution_count": 7,
     "metadata": {},
     "output_type": "execute_result"
    }
   ],
   "source": [
    "any([False, False, False])"
   ]
  },
  {
   "cell_type": "code",
   "execution_count": 8,
   "id": "ac3f0bb6-87ec-4ede-bbba-ada2489e7ba5",
   "metadata": {},
   "outputs": [
    {
     "data": {
      "text/plain": [
       "True"
      ]
     },
     "execution_count": 8,
     "metadata": {},
     "output_type": "execute_result"
    }
   ],
   "source": [
    "any([False, True, False])"
   ]
  },
  {
   "cell_type": "code",
   "execution_count": 9,
   "id": "4c557b1f-7c7d-41ae-be78-968b5e8f19c6",
   "metadata": {},
   "outputs": [
    {
     "data": {
      "text/plain": [
       "False"
      ]
     },
     "execution_count": 9,
     "metadata": {},
     "output_type": "execute_result"
    }
   ],
   "source": [
    "any(['bar' == 'baz', len('foo') == 4, 'qux' in {'foo', 'bar', 'baz'}])"
   ]
  },
  {
   "cell_type": "code",
   "execution_count": 10,
   "id": "9eab41c8-e143-4382-9d70-3150e93e3bc9",
   "metadata": {},
   "outputs": [
    {
     "data": {
      "text/plain": [
       "True"
      ]
     },
     "execution_count": 10,
     "metadata": {},
     "output_type": "execute_result"
    }
   ],
   "source": [
    "any(['bar' == 'baz', len('foo') == 3, 'qux' in {'foo', 'bar', 'baz'}])"
   ]
  },
  {
   "cell_type": "markdown",
   "id": "d9a47d84-6045-4c62-9d0d-f248cbd660b2",
   "metadata": {},
   "source": [
    "---"
   ]
  },
  {
   "cell_type": "markdown",
   "id": "2482c32a-b4f6-44d6-83a9-34ba8274d54d",
   "metadata": {},
   "source": [
    "Each of these built-in functions performs a specific task. The code that accomplishes the task is defined somewhere, but you don’t need to know where or even how the code works. All you need to know about is the function’s interface:\n",
    "\n",
    "1. What arguments (if any) it takes\n",
    "2. What values (if any) it returns"
   ]
  },
  {
   "cell_type": "markdown",
   "id": "b9e3dd8e-2af5-485b-84f3-cddbee20e40d",
   "metadata": {},
   "source": [
    "Then you call the function and pass the appropriate arguments. Program execution goes off to the designated body of code and does its useful thing. When the function is finished, execution returns to your code where it left off. The function may or may not return data for your code to use, as the examples above do. <br>\n",
    "When you define your own Python function, it works just the same. From somewhere in your code, you’ll call your Python function and program execution will transfer to the body of code that makes up the function."
   ]
  },
  {
   "cell_type": "markdown",
   "id": "c38bcb1f-f0b3-4c50-8179-a299112b0634",
   "metadata": {},
   "source": [
    "---"
   ]
  },
  {
   "cell_type": "markdown",
   "id": "e9f4237e-df61-46fd-aec9-6281966ef310",
   "metadata": {},
   "source": [
    "## Advantages of Functions\n",
    "- Abstraction and Reusability\n",
    "- Modularity"
   ]
  },
  {
   "cell_type": "markdown",
   "id": "cafdc814-ab59-4fbb-97d9-dedb3bb49136",
   "metadata": {},
   "source": [
    "```python\n",
    "# Main program\n",
    "\n",
    "# Code to read file in\n",
    "<statement>\n",
    "<statement>\n",
    "<statement>\n",
    "<statement>\n",
    "\n",
    "# Code to process file\n",
    "<statement>\n",
    "<statement>\n",
    "<statement>\n",
    "<statement>\n",
    "\n",
    "# Code to write file out\n",
    "<statement>\n",
    "<statement>\n",
    "<statement>\n",
    "<statement>\n",
    "```"
   ]
  },
  {
   "cell_type": "markdown",
   "id": "f576fd8e-7995-4bed-a87b-29fa428d9052",
   "metadata": {},
   "source": [
    "Alternatively, you could structure the code more like the following:\n",
    "```python\n",
    "def read_file():\n",
    "    # Code to read file in\n",
    "    <statement>\n",
    "    <statement>\n",
    "    <statement>\n",
    "    <statement>\n",
    "\n",
    "def process_file():\n",
    "    # Code to process file\n",
    "    <statement>\n",
    "    <statement>\n",
    "    <statement>\n",
    "    <statement>\n",
    "\n",
    "def write_file():\n",
    "    # Code to write file out\n",
    "    <statement>\n",
    "    <statement>\n",
    "    <statement>\n",
    "    <statement>\n",
    "\n",
    "\n",
    "# Main program\n",
    "read_file()\n",
    "process_file()\n",
    "write_file()\n",
    "```"
   ]
  },
  {
   "cell_type": "markdown",
   "id": "b32faefb-18be-4293-9951-de81ece2b0e1",
   "metadata": {},
   "source": [
    "This example is modularized. Instead of all the code being strung together, it’s broken out into separate functions, each of which focuses on a specific task. Those tasks are read, process, and write. The main program now simply needs to call each of these in turn.\n",
    "\n"
   ]
  },
  {
   "cell_type": "markdown",
   "id": "9edf6ea0-f0a6-43b5-8b68-f70ebe251ecf",
   "metadata": {},
   "source": [
    "In life, you do this sort of thing all the time, even if you don’t explicitly think of it that way. If you wanted to move some shelves full of stuff from one side of your garage to the other, then you hopefully wouldn’t just stand there and aimlessly think, “Oh, geez. I need to move all that stuff over there! How do I do that???” You’d divide the job into manageable steps:\n",
    "\n",
    "- Take all the stuff off the shelves.\n",
    "- Take the shelves apart.\n",
    "- Carry the shelf parts across the garage to the new location.\n",
    "- Re-assemble the shelves.\n",
    "- Carry the stuff across the garage.\n",
    "- Put the stuff back on the shelves.\n",
    "\n",
    "Breaking a large task into smaller, bite-sized sub-tasks helps make the large task easier to think about and manage. As programs become more complicated, it becomes increasingly beneficial to modularize them in this way."
   ]
  },
  {
   "cell_type": "markdown",
   "id": "0e32e131-6a6c-4d9f-927d-fe619013d0ba",
   "metadata": {},
   "source": [
    "## Function Calls and Definition"
   ]
  },
  {
   "cell_type": "markdown",
   "id": "fb8177a3-47d0-4b44-a329-e909a74a6112",
   "metadata": {},
   "source": [
    "```python\n",
    "def <function_name>([<parameters>]):\n",
    "    <statement(s)>\n",
    "```"
   ]
  },
  {
   "cell_type": "markdown",
   "id": "f48f5b53-b120-4eab-9a2f-f1e27216af05",
   "metadata": {},
   "source": [
    "| Component | Meaning |\n",
    "| --- | --- |\n",
    "|def| The keyword that informs Python that a function is being defined|\n",
    "|function_name| A valid Python identifier that names the function|\n",
    "|parameters|An optional, comma-separated list of parameters that may be passed to the function|\n",
    "|: | Punctuation that denotes the end of the Python function header (the name and parameter list)|\n",
    "|statement(s)|A block of valid Python statements|"
   ]
  },
  {
   "cell_type": "markdown",
   "id": "767870ce-ff5f-4973-96c1-c8db658159c9",
   "metadata": {},
   "source": [
    "The syntax for calling a Python function is as follows:\n",
    "```python\n",
    "<function_name>([<arguments>])\n",
    "```"
   ]
  },
  {
   "cell_type": "markdown",
   "id": "68cefc5d-0dd4-4a72-bdbf-1c98dcb9eb17",
   "metadata": {},
   "source": [
    "```python\n",
    "def f():\n",
    "    s = '-- Inside f()'\n",
    "    print(s)\n",
    "\n",
    "print('Before calling f()')\n",
    "f()\n",
    "print('After calling f()')\n",
    "```"
   ]
  },
  {
   "cell_type": "code",
   "execution_count": 54,
   "id": "b00ddeef-b19e-44c8-80a5-2f85dac7bd93",
   "metadata": {},
   "outputs": [
    {
     "name": "stdout",
     "output_type": "stream",
     "text": [
      "Before calling f()\n",
      "-- Inside f()\n",
      "After calling f()\n"
     ]
    }
   ],
   "source": [
    "def f():\n",
    "    s = '-- Inside f()'\n",
    "    print(s)\n",
    "    pass\n",
    "\n",
    "print('Before calling f()')\n",
    "f()\n",
    "print('After calling f()')"
   ]
  },
  {
   "cell_type": "markdown",
   "id": "966af09d-52bf-437a-af89-3145fedc689d",
   "metadata": {},
   "source": [
    "Occasionally, you may want to define an empty function that does nothing. This is referred to as a stub, which is usually a temporary placeholder for a Python function that will be fully implemented at a later time. Just as a block in a control structure can’t be empty, neither can the body of a function. To define a stub function, use the `pass` statement:"
   ]
  },
  {
   "cell_type": "code",
   "execution_count": 55,
   "id": "7ed59ecc-50e2-4592-8a16-78dfbadceb52",
   "metadata": {},
   "outputs": [],
   "source": [
    "# do_something\n",
    "def f():\n",
    "    pass"
   ]
  },
  {
   "cell_type": "markdown",
   "id": "ce7ccddb-d945-4abd-85c0-e9bb543056c8",
   "metadata": {},
   "source": [
    "## Positional Arguments"
   ]
  },
  {
   "cell_type": "code",
   "execution_count": 92,
   "id": "1defa103-14fb-423b-a607-bc2ba1818b39",
   "metadata": {},
   "outputs": [],
   "source": [
    "def f(qty, item, price):\n",
    "    print(f'{qty} {item} cost ${price:.2f}')"
   ]
  },
  {
   "cell_type": "code",
   "execution_count": 96,
   "id": "3b77b025-29e4-410d-9ea9-c5beef67b6ce",
   "metadata": {},
   "outputs": [
    {
     "name": "stdout",
     "output_type": "stream",
     "text": [
      "6 bananas cost $1.74\n"
     ]
    }
   ],
   "source": [
    "f(6, 'bananas', 1.74)"
   ]
  },
  {
   "cell_type": "code",
   "execution_count": 97,
   "id": "3b41a810-781f-4646-81bf-1ab84368b180",
   "metadata": {},
   "outputs": [
    {
     "name": "stdout",
     "output_type": "stream",
     "text": [
      "6 bananas cost $2.00\n"
     ]
    }
   ],
   "source": [
    "f(6, 'bananas', 2)"
   ]
  },
  {
   "cell_type": "code",
   "execution_count": 77,
   "id": "6ab5f032-2744-4837-a0c7-1799b414b706",
   "metadata": {},
   "outputs": [
    {
     "ename": "TypeError",
     "evalue": "f() missing 1 required positional argument: 'price'",
     "output_type": "error",
     "traceback": [
      "\u001b[0;31m---------------------------------------------------------------------------\u001b[0m",
      "\u001b[0;31mTypeError\u001b[0m                                 Traceback (most recent call last)",
      "\u001b[0;32m<ipython-input-77-bf635d32eea0>\u001b[0m in \u001b[0;36m<module>\u001b[0;34m\u001b[0m\n\u001b[0;32m----> 1\u001b[0;31m \u001b[0mf\u001b[0m\u001b[0;34m(\u001b[0m\u001b[0;36m6\u001b[0m\u001b[0;34m,\u001b[0m \u001b[0;34m'bananas'\u001b[0m\u001b[0;34m)\u001b[0m\u001b[0;34m\u001b[0m\u001b[0;34m\u001b[0m\u001b[0m\n\u001b[0m",
      "\u001b[0;31mTypeError\u001b[0m: f() missing 1 required positional argument: 'price'"
     ]
    }
   ],
   "source": [
    "f(6, 'bananas')"
   ]
  },
  {
   "cell_type": "code",
   "execution_count": 78,
   "id": "93af5e1d-fede-48b9-beb1-e1eaa6bebaf1",
   "metadata": {},
   "outputs": [
    {
     "ename": "TypeError",
     "evalue": "f() takes 3 positional arguments but 4 were given",
     "output_type": "error",
     "traceback": [
      "\u001b[0;31m---------------------------------------------------------------------------\u001b[0m",
      "\u001b[0;31mTypeError\u001b[0m                                 Traceback (most recent call last)",
      "\u001b[0;32m<ipython-input-78-a518607aadec>\u001b[0m in \u001b[0;36m<module>\u001b[0;34m\u001b[0m\n\u001b[0;32m----> 1\u001b[0;31m \u001b[0mf\u001b[0m\u001b[0;34m(\u001b[0m\u001b[0;36m6\u001b[0m\u001b[0;34m,\u001b[0m \u001b[0;34m'bananas'\u001b[0m\u001b[0;34m,\u001b[0m \u001b[0;36m1.74\u001b[0m\u001b[0;34m,\u001b[0m \u001b[0;34m'kumquats'\u001b[0m\u001b[0;34m)\u001b[0m\u001b[0;34m\u001b[0m\u001b[0;34m\u001b[0m\u001b[0m\n\u001b[0m",
      "\u001b[0;31mTypeError\u001b[0m: f() takes 3 positional arguments but 4 were given"
     ]
    }
   ],
   "source": [
    "f(6, 'bananas', 1.74, 'kumquats')"
   ]
  },
  {
   "cell_type": "markdown",
   "id": "05580f05-76df-4a64-9f2b-0b0578c0fa8f",
   "metadata": {},
   "source": [
    "## Keyword Arguments"
   ]
  },
  {
   "cell_type": "code",
   "execution_count": 85,
   "id": "8c5dd6a8-161b-4797-9ee3-22e23fb32310",
   "metadata": {},
   "outputs": [
    {
     "name": "stdout",
     "output_type": "stream",
     "text": [
      "6 bananas cost $1.74\n"
     ]
    }
   ],
   "source": [
    "f(qty=6, item='bananas', price=1.74)"
   ]
  },
  {
   "cell_type": "code",
   "execution_count": 86,
   "id": "d79e59f5-5586-4830-8804-4807112be0fe",
   "metadata": {},
   "outputs": [
    {
     "name": "stdout",
     "output_type": "stream",
     "text": [
      "6 bananas cost $1.74\n"
     ]
    }
   ],
   "source": [
    "f(item='bananas', price=1.74, qty=6)"
   ]
  },
  {
   "cell_type": "markdown",
   "id": "9b0af3d2-f7df-4990-8a91-e060bc28f50a",
   "metadata": {},
   "source": [
    "#### You can call a function using both positional and keyword arguments:"
   ]
  },
  {
   "cell_type": "code",
   "execution_count": 87,
   "id": "77b208d3-c169-45f0-b840-9e610f700408",
   "metadata": {},
   "outputs": [
    {
     "name": "stdout",
     "output_type": "stream",
     "text": [
      "6 bananas cost $1.74\n"
     ]
    }
   ],
   "source": [
    "f(6, price=1.74, item='bananas')"
   ]
  },
  {
   "cell_type": "code",
   "execution_count": 88,
   "id": "1eee5201-48fa-4438-a589-0ff50ce9c7a8",
   "metadata": {},
   "outputs": [
    {
     "name": "stdout",
     "output_type": "stream",
     "text": [
      "6 bananas cost $1.74\n"
     ]
    }
   ],
   "source": [
    "f(6, 'bananas', price=1.74)"
   ]
  },
  {
   "cell_type": "code",
   "execution_count": 89,
   "id": "6a30cf88-0b87-4052-ab59-0afb37f9c14b",
   "metadata": {},
   "outputs": [
    {
     "ename": "TypeError",
     "evalue": "f() got multiple values for argument 'qty'",
     "output_type": "error",
     "traceback": [
      "\u001b[0;31m---------------------------------------------------------------------------\u001b[0m",
      "\u001b[0;31mTypeError\u001b[0m                                 Traceback (most recent call last)",
      "\u001b[0;32m<ipython-input-89-2bbf8c751c59>\u001b[0m in \u001b[0;36m<module>\u001b[0;34m\u001b[0m\n\u001b[0;32m----> 1\u001b[0;31m \u001b[0mf\u001b[0m\u001b[0;34m(\u001b[0m\u001b[0;36m6\u001b[0m\u001b[0;34m,\u001b[0m \u001b[0;34m'bananas'\u001b[0m\u001b[0;34m,\u001b[0m \u001b[0mqty\u001b[0m\u001b[0;34m=\u001b[0m\u001b[0;36m1.74\u001b[0m\u001b[0;34m)\u001b[0m\u001b[0;34m\u001b[0m\u001b[0;34m\u001b[0m\u001b[0m\n\u001b[0m",
      "\u001b[0;31mTypeError\u001b[0m: f() got multiple values for argument 'qty'"
     ]
    }
   ],
   "source": [
    "f(1.74, 'bananas', qty=1.74)"
   ]
  },
  {
   "cell_type": "markdown",
   "id": "f658619e-b9c2-487b-9a92-7d8a61c8ba25",
   "metadata": {},
   "source": [
    "## Default Parameters"
   ]
  },
  {
   "cell_type": "code",
   "execution_count": 134,
   "id": "97e6b2fa-4b32-49a4-b0ab-de04a622dd3f",
   "metadata": {},
   "outputs": [],
   "source": [
    "def f(qty=6, item='bananas', price=1.74):\n",
    "    if price > 10:\n",
    "        return 'invalid price'\n",
    "    # print(f'{qty} {item} cost ${price:.2f}')\n",
    "    return (f'{qty} {item} cost ${price:.2f}')\n",
    "#     return 'kevin'"
   ]
  },
  {
   "cell_type": "code",
   "execution_count": 135,
   "id": "5ca32171-d6fb-44ac-903d-ad6a2c69e692",
   "metadata": {},
   "outputs": [],
   "source": [
    "yuri = f(4, 'apples', 2.24)"
   ]
  },
  {
   "cell_type": "code",
   "execution_count": 136,
   "id": "d72d77b3-9f93-4e3b-b1a9-9fb8db4e5567",
   "metadata": {},
   "outputs": [
    {
     "data": {
      "text/plain": [
       "'4 apples cost $2.24'"
      ]
     },
     "execution_count": 136,
     "metadata": {},
     "output_type": "execute_result"
    }
   ],
   "source": [
    "yuri"
   ]
  },
  {
   "cell_type": "code",
   "execution_count": 137,
   "id": "ba402cff-0d87-4e54-b416-f5b366e15b66",
   "metadata": {},
   "outputs": [
    {
     "data": {
      "text/plain": [
       "'4 apples cost $1.74'"
      ]
     },
     "execution_count": 137,
     "metadata": {},
     "output_type": "execute_result"
    }
   ],
   "source": [
    "f(4, 'apples')"
   ]
  },
  {
   "cell_type": "code",
   "execution_count": 138,
   "id": "1073e76e-7475-4dfd-94d2-eaa629b2abc3",
   "metadata": {},
   "outputs": [
    {
     "data": {
      "text/plain": [
       "'4 bananas cost $1.74'"
      ]
     },
     "execution_count": 138,
     "metadata": {},
     "output_type": "execute_result"
    }
   ],
   "source": [
    "f(4)"
   ]
  },
  {
   "cell_type": "markdown",
   "id": "e56446c3-77b4-4555-a5e4-1a3a47c3c804",
   "metadata": {},
   "source": [
    "## Mutable Default Parameter Values"
   ]
  },
  {
   "cell_type": "code",
   "execution_count": 150,
   "id": "9498f25b-bfcc-4d51-a39e-cb2821aad263",
   "metadata": {},
   "outputs": [],
   "source": [
    "def f(my_list=[]):\n",
    "    my_list.append('###')\n",
    "    return my_list"
   ]
  },
  {
   "cell_type": "code",
   "execution_count": 146,
   "id": "9f1feebb-53ae-4325-8f73-c7b3d0e29226",
   "metadata": {},
   "outputs": [
    {
     "data": {
      "text/plain": [
       "['foo', 'bar', 'baz', '###']"
      ]
     },
     "execution_count": 146,
     "metadata": {},
     "output_type": "execute_result"
    }
   ],
   "source": [
    "f(['foo', 'bar', 'baz'])"
   ]
  },
  {
   "cell_type": "code",
   "execution_count": 147,
   "id": "3d88241c-f9ad-4455-8a95-a0317f373ccb",
   "metadata": {},
   "outputs": [
    {
     "data": {
      "text/plain": [
       "[1, 2, 3, '###']"
      ]
     },
     "execution_count": 147,
     "metadata": {},
     "output_type": "execute_result"
    }
   ],
   "source": [
    "f([1,2,3])"
   ]
  },
  {
   "cell_type": "code",
   "execution_count": 151,
   "id": "7b6d0c18-23b6-4891-8491-cd113a79a094",
   "metadata": {},
   "outputs": [
    {
     "data": {
      "text/plain": [
       "['###']"
      ]
     },
     "execution_count": 151,
     "metadata": {},
     "output_type": "execute_result"
    }
   ],
   "source": [
    "f()"
   ]
  },
  {
   "cell_type": "markdown",
   "id": "f25ee784-e0ac-4650-ba7e-7a12b7d3b98f",
   "metadata": {},
   "source": [
    "## The return Statement\n",
    "What’s a Python function to do then? After all, in many cases, if a function doesn’t cause some change in the calling environment, then there isn’t much point in calling it at all. How should a function affect its caller?\n",
    "\n",
    "Well, one possibility is to use function return values. A return statement in a Python function serves two purposes:\n",
    "\n",
    "- It immediately terminates the function and passes execution control back to the caller.\n",
    "- It provides a mechanism by which the function can pass data back to the caller."
   ]
  },
  {
   "cell_type": "markdown",
   "id": "14e7c855-b571-4630-9183-fea1a56fb10c",
   "metadata": {},
   "source": [
    "### Exiting a Function\n",
    "```python\n",
    ">>> def f():\n",
    "...     print('foo')\n",
    "...     print('bar')\n",
    "...     return\n",
    "...\n",
    "\n",
    ">>> f()\n",
    "foo\n",
    "bar\n",
    "```"
   ]
  },
  {
   "cell_type": "markdown",
   "id": "cc8260df-4116-424f-a005-882adaee0797",
   "metadata": {},
   "source": [
    "### Returning Data to the Caller\n",
    "```python\n",
    ">>> def f():\n",
    "...     return 'foo'\n",
    "...\n",
    "\n",
    ">>> s = f()\n",
    ">>> s\n",
    "'foo'\n",
    "```"
   ]
  },
  {
   "cell_type": "markdown",
   "id": "a1866181-df27-4cc5-acd3-eede87647e7b",
   "metadata": {},
   "source": [
    "For example, in this code, f() returns a dictionary. In the calling environment then, the expression f() represents a dictionary, and f()['baz'] is a valid key reference into that dictionary:\n",
    "\n",
    "\n",
    "```python\n",
    ">>> def f():\n",
    "...     return dict(foo=1, bar=2, baz=3)\n",
    "...\n",
    "\n",
    ">>> f()\n",
    "{'foo': 1, 'bar': 2, 'baz': 3}\n",
    ">>> f()['baz']\n",
    "3\n",
    "```"
   ]
  },
  {
   "cell_type": "code",
   "execution_count": null,
   "id": "89836c7c-480e-4221-805c-4d68da09e8ab",
   "metadata": {},
   "outputs": [],
   "source": []
  }
 ],
 "metadata": {
  "kernelspec": {
   "display_name": "Python 3",
   "language": "python",
   "name": "python3"
  },
  "language_info": {
   "codemirror_mode": {
    "name": "ipython",
    "version": 3
   },
   "file_extension": ".py",
   "mimetype": "text/x-python",
   "name": "python",
   "nbconvert_exporter": "python",
   "pygments_lexer": "ipython3",
   "version": "3.8.2"
  }
 },
 "nbformat": 4,
 "nbformat_minor": 5
}
